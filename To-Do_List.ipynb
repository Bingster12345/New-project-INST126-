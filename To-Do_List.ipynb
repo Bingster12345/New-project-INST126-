{
 "cells": [
  {
   "cell_type": "code",
   "execution_count": null,
   "id": "83f78977-d368-4ad2-ab81-082cfdda65b7",
   "metadata": {},
   "outputs": [],
   "source": [
    "# Evan Yee"
   ]
  },
  {
   "cell_type": "code",
   "execution_count": null,
   "id": "7d204857-4e28-4931-97c2-b1b7251fa82c",
   "metadata": {},
   "outputs": [],
   "source": [
    "# I looked up ways to itereate through a sequence and found the enumerate() function, it serves my purpose perfectly\n",
    "# because I can iterate through a sequence and keep track of the index."
   ]
  },
  {
   "cell_type": "code",
   "execution_count": null,
   "id": "b8b11b85-142e-4a52-99e2-617ebbe9b58a",
   "metadata": {},
   "outputs": [
    {
     "name": "stdout",
     "output_type": "stream",
     "text": [
      "\n",
      "TODO LIST\n",
      "1. Add Task\n",
      "2. Remove Task\n",
      "3. Show Tasks\n",
      "4. Exit\n"
     ]
    },
    {
     "name": "stdin",
     "output_type": "stream",
     "text": [
      "Enter your choice:  1\n",
      "Enter task:  Shop\n"
     ]
    },
    {
     "name": "stdout",
     "output_type": "stream",
     "text": [
      "Task 'Shop' added.\n",
      "\n",
      "TODO LIST\n",
      "1. Add Task\n",
      "2. Remove Task\n",
      "3. Show Tasks\n",
      "4. Exit\n"
     ]
    },
    {
     "name": "stdin",
     "output_type": "stream",
     "text": [
      "Enter your choice:  1\n",
      "Enter task:  Eat\n"
     ]
    },
    {
     "name": "stdout",
     "output_type": "stream",
     "text": [
      "Task 'Eat' added.\n",
      "\n",
      "TODO LIST\n",
      "1. Add Task\n",
      "2. Remove Task\n",
      "3. Show Tasks\n",
      "4. Exit\n"
     ]
    },
    {
     "name": "stdin",
     "output_type": "stream",
     "text": [
      "Enter your choice:  3\n"
     ]
    },
    {
     "name": "stdout",
     "output_type": "stream",
     "text": [
      "Tasks:\n",
      "1. Shop\n",
      "2. Eat\n",
      "\n",
      "TODO LIST\n",
      "1. Add Task\n",
      "2. Remove Task\n",
      "3. Show Tasks\n",
      "4. Exit\n"
     ]
    },
    {
     "name": "stdin",
     "output_type": "stream",
     "text": [
      "Enter your choice:  2\n",
      "Enter task to remove:  Eat\n"
     ]
    },
    {
     "name": "stdout",
     "output_type": "stream",
     "text": [
      "Task 'Eat' removed.\n",
      "\n",
      "TODO LIST\n",
      "1. Add Task\n",
      "2. Remove Task\n",
      "3. Show Tasks\n",
      "4. Exit\n"
     ]
    },
    {
     "name": "stdin",
     "output_type": "stream",
     "text": [
      "Enter your choice:  3\n"
     ]
    },
    {
     "name": "stdout",
     "output_type": "stream",
     "text": [
      "Tasks:\n",
      "1. Shop\n",
      "\n",
      "TODO LIST\n",
      "1. Add Task\n",
      "2. Remove Task\n",
      "3. Show Tasks\n",
      "4. Exit\n"
     ]
    }
   ],
   "source": [
    "tasks = []\n",
    "\n",
    "def add_task(task):\n",
    "    tasks.append(task)\n",
    "    print(f\"Task '{task}' added.\")\n",
    "\n",
    "def remove_task(task):\n",
    "    if task in tasks:\n",
    "        tasks.remove(task)\n",
    "        print(f\"Task '{task}' removed.\")\n",
    "    else:\n",
    "        print(f\"Task '{task}' not found.\")\n",
    "\n",
    "def show_tasks():\n",
    "    if tasks:\n",
    "        print(\"Tasks:\")\n",
    "        for idx, task in enumerate(tasks, start = 1):\n",
    "            print(f\"{idx}. {task}\")\n",
    "    else:\n",
    "        print(\"No tasks to display.\")\n",
    "\n",
    "def main():\n",
    "    while True:\n",
    "        print(\"\\nTODO LIST\")\n",
    "        print(\"1. Add Task\")\n",
    "        print(\"2. Remove Task\")\n",
    "        print(\"3. Show Tasks\")\n",
    "        print(\"4. Exit\")\n",
    "\n",
    "        choice = input(\"Enter your choice: \")\n",
    "\n",
    "        if choice == \"1\":\n",
    "            task = input(\"Enter task: \")\n",
    "            add_task(task)\n",
    "        elif choice == \"2\":\n",
    "            task = input(\"Enter task to remove: \")\n",
    "            remove_task(task)\n",
    "        elif choice == \"3\":\n",
    "            show_tasks()\n",
    "        elif choice == \"4\":\n",
    "            print(\"Exiting...\")\n",
    "            break\n",
    "        else:\n",
    "            print(\"Invalid choice. Please try again.\")\n",
    "\n",
    "if __name__ == \"__main__\":\n",
    "    main()"
   ]
  }
 ],
 "metadata": {
  "kernelspec": {
   "display_name": "Python 3 (ipykernel)",
   "language": "python",
   "name": "python3"
  },
  "language_info": {
   "codemirror_mode": {
    "name": "ipython",
    "version": 3
   },
   "file_extension": ".py",
   "mimetype": "text/x-python",
   "name": "python",
   "nbconvert_exporter": "python",
   "pygments_lexer": "ipython3",
   "version": "3.8.18"
  }
 },
 "nbformat": 4,
 "nbformat_minor": 5
}
